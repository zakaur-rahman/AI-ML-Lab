{
 "cells": [
  {
   "cell_type": "code",
   "execution_count": 3,
   "metadata": {},
   "outputs": [
    {
     "name": "stdout",
     "output_type": "stream",
     "text": [
      "Path found: ['A', 'B', 'D']\n"
     ]
    },
    {
     "data": {
      "text/plain": [
       "['A', 'B', 'D']"
      ]
     },
     "execution_count": 3,
     "metadata": {},
     "output_type": "execute_result"
    }
   ],
   "source": [
    "def aStarAlgo(start_node, stop_node):\n",
    "    \n",
    "\n",
    "    open_set = set(start_node) # {A}, len{open_set}=1\n",
    "    closed_set = set()\n",
    "    g = {} # store the distance from starting node\n",
    "    parents = {}\n",
    "    g[start_node] = 0\n",
    "    parents[start_node] = start_node # parents['A']='A\"\n",
    "\n",
    "    while len(open_set) > 0 :\n",
    "        n = None\n",
    "\n",
    "        for v in open_set: # v='B'/'F'\n",
    "            if n == None or g[v] + heuristic(v) < g[n] + heuristic(n):\n",
    "                n = v # n='A'\n",
    "\n",
    "        if n == stop_node or Graph_nodes[n] == None:\n",
    "            pass\n",
    "        else:\n",
    "            for (m, weight) in get_neighbors(n):\n",
    "             # nodes 'm' not in first and last set are added to first\n",
    "             # n is set its parent\n",
    "                if m not in open_set and m not in closed_set:\n",
    "                    open_set.add(m)      # m=B weight=6 {'F','B','A'} len{open_set}=2\n",
    "                    parents[m] = n       # parents={'A':A,'B':A} len{parent}=2\n",
    "                    g[m] = g[n] + weight # g={'A':0,'B':6, 'F':3} len{g}=2\n",
    "\n",
    "\n",
    "            #for each node m,compare its distance from start i.e g(m) to the\n",
    "            #from start through n node\n",
    "                else:\n",
    "                    if g[m] > g[n] + weight:\n",
    "                    #update g(m)\n",
    "                        g[m] = g[n] + weight\n",
    "                    #change parent of m to n\n",
    "                        parents[m] = n\n",
    "\n",
    "                    #if m in closed set,remove and add to open\n",
    "                        if m in closed_set:\n",
    "                            closed_set.remove(m)\n",
    "                            open_set.add(m)\n",
    "\n",
    "        if n == None:\n",
    "            print('Path does not exist!')\n",
    "            return None\n",
    "\n",
    "        # if the current node is the stop_node\n",
    "        # then we begin reconstructin the path from it to the start_node\n",
    "        if n == stop_node:\n",
    "            path = []\n",
    "            while parents[n] != n:\n",
    "                path.append(n)\n",
    "                n = parents[n]\n",
    "\n",
    "            path.append(start_node)\n",
    "\n",
    "            path.reverse()\n",
    "\n",
    "            print('Path found: {}'.format(path))\n",
    "            return path\n",
    "\n",
    "\n",
    "        # remove n from the open_list, and add it to closed_list\n",
    "        # because all of his neighbors were inspected\n",
    "        open_set.remove(n)# {'F','B'} len=2\n",
    "        closed_set.add(n) #{A} len=1\n",
    "\n",
    "    print('Path does not exist!')\n",
    "    return None\n",
    "\n",
    "#define fuction to return neighbor and its distance\n",
    "#from the passed node\n",
    "def get_neighbors(v):\n",
    "    if v in Graph_nodes:\n",
    "        return Graph_nodes[v]\n",
    "    else:\n",
    "        return None\n",
    "#for simplicity we ll consider heuristic distances given\n",
    "#and this function returns heuristic distance for all nodes\n",
    " \n",
    "def heuristic(n):\n",
    "    H_dist = {\n",
    "       'A': 1,\n",
    "       'B': 1,\n",
    "       'C': 1,\n",
    "       'D': 1\n",
    "    }\n",
    "\n",
    "    return H_dist[n]\n",
    "\n",
    "#Describe your graph here\n",
    "Graph_nodes = {\n",
    "    \n",
    "        'A': [('B', 1), ('C', 3), ('D', 7)],\n",
    "        'B': [('D', 5)],\n",
    "        'C': [('D', 12)]\n",
    "}\n",
    "aStarAlgo('A', 'D')"
   ]
  }
 ],
 "metadata": {
  "kernelspec": {
   "display_name": "Python 3.10.8 64-bit",
   "language": "python",
   "name": "python3"
  },
  "language_info": {
   "codemirror_mode": {
    "name": "ipython",
    "version": 3
   },
   "file_extension": ".py",
   "mimetype": "text/x-python",
   "name": "python",
   "nbconvert_exporter": "python",
   "pygments_lexer": "ipython3",
   "version": "3.10.8"
  },
  "orig_nbformat": 4,
  "vscode": {
   "interpreter": {
    "hash": "31671a60cee805c34c73116577b485118ff3a75c458d3004d49632c19702ac60"
   }
  }
 },
 "nbformat": 4,
 "nbformat_minor": 2
}
